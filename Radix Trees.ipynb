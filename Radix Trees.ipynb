{
 "cells": [
  {
   "cell_type": "markdown",
   "metadata": {},
   "source": [
    "# Radix trees\n",
    "### A custom data structure\n",
    "\n",
    "This is a custom data structure that allows you to go through all combinations of a tree."
   ]
  },
  {
   "cell_type": "code",
   "execution_count": 28,
   "metadata": {},
   "outputs": [],
   "source": [
    "import math"
   ]
  },
  {
   "cell_type": "code",
   "execution_count": 21,
   "metadata": {},
   "outputs": [
    {
     "name": "stdout",
     "output_type": "stream",
     "text": [
      "Radix Tree >> (3,4,5,1)\n"
     ]
    }
   ],
   "source": [
    "class RadixTree:\n",
    "    def __init__(self, *tree):\n",
    "        if type(tree[0]) in [list, tuple]: tree = tree[0]\n",
    "        for branch in tree:\n",
    "            if type(branch) != int: raise TypeError(f\"Invalid data type given, expected int, given {type(branch)}\")\n",
    "        self.map = list(tree)\n",
    "    def genAddress(self, *address):\n",
    "        return RadixAddress(self,*address)\n",
    "    def __len__(self):\n",
    "        return len(self.map)\n",
    "    def __getitem__(self,index):\n",
    "        if len(self) < index-1: raise IndexError(\"Index out of bounds\")\n",
    "        else: return self.map[index]\n",
    "    def __str__(self):\n",
    "        mapCopy = self.map.copy()\n",
    "        for i in range(len(mapCopy)): mapCopy[i] = str(mapCopy[i])\n",
    "        return f\"Radix Tree >> ({','.join(mapCopy)[:-1]})\"\n",
    "rTree = RadixTree(3,4,5,19)\n",
    "# for branch in tree:\n",
    "#     print(branch)\n",
    "print(tree)"
   ]
  },
  {
   "cell_type": "code",
   "execution_count": 39,
   "metadata": {},
   "outputs": [
    {
     "data": {
      "text/plain": [
       "[1, 2]"
      ]
     },
     "execution_count": 39,
     "metadata": {},
     "output_type": "execute_result"
    }
   ],
   "source": [
    "def arrProduct(arr,func=lambda x:x):\n",
    "    prod = 1\n",
    "    for i in arr: prod*=func(i)\n",
    "    return prod\n",
    "def indexReduce(radixTree,radixAddress):\n",
    "    prod = arrProduct(radixTree,lambda x:x+1)\n",
    "    total = 0\n",
    "    for pos in range(len(radixTree)): \n",
    "        prod /= radixTree[pos]+1\n",
    "        total += radixAddress[pos]*prod\n",
    "    return total\n",
    "# indexReduce([3,2],[1,2])\n",
    "def indexMap(radixTree, index):\n",
    "    prod = arrProduct(radixTree[1:],lambda x:x+1)\n",
    "    radixAddress = [math.floor(index/prod)]\n",
    "    for i in range(1,len(radixTree)): \n",
    "        prod /= radixTree[i]+1\n",
    "        radixAddress.append(math.floor(index%(prod*(radixTree[i]+1))/(prod)))\n",
    "    return radixAddress\n",
    "indexMap([3,2],5)"
   ]
  },
  {
   "cell_type": "markdown",
   "metadata": {},
   "source": [
    "A radix tree needs a Radix Address which tells us the exact combination in the tree."
   ]
  },
  {
   "cell_type": "code",
   "execution_count": 27,
   "metadata": {},
   "outputs": [
    {
     "name": "stdout",
     "output_type": "stream",
     "text": [
      "[0, 0, 0, 0]\n"
     ]
    }
   ],
   "source": [
    "class RadixAddress:\n",
    "    def __init__(self, tree, *address):\n",
    "        self.addr = []\n",
    "        self.tree = tree\n",
    "        if type(tree) != RadixTree: raise TypeError(f'Invalid second argument/tree argument, expected RadixTree but got {type(tree)}')\n",
    "        elif len(tree) != len(address):\n",
    "            if len(address) == 0:\n",
    "                for branch in tree: self.addr.append(0)\n",
    "            elif type(address[0]) in [list,tuple]: self.addr = address[0]\n",
    "            else: raise Exception(f\"Invalid length of address, the address and the tree have to have the same length\")\n",
    "        else: self.addr = list(address)\n",
    "    def incrementTree(count=1):\n",
    "        if count < 1 or count \n",
    "    def toString(self):\n",
    "        return str(self.addr)\n",
    "rAddress = rTree.genAddress()\n",
    "print(rAddress.toString())"
   ]
  },
  {
   "cell_type": "code",
   "execution_count": null,
   "metadata": {},
   "outputs": [],
   "source": []
  }
 ],
 "metadata": {
  "kernelspec": {
   "display_name": "Python 3",
   "language": "python",
   "name": "python3"
  },
  "language_info": {
   "codemirror_mode": {
    "name": "ipython",
    "version": 3
   },
   "file_extension": ".py",
   "mimetype": "text/x-python",
   "name": "python",
   "nbconvert_exporter": "python",
   "pygments_lexer": "ipython3",
   "version": "3.7.3"
  }
 },
 "nbformat": 4,
 "nbformat_minor": 4
}
