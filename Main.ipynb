{
 "cells": [
  {
   "cell_type": "markdown",
   "metadata": {},
   "source": [
    "## Importing libraries "
   ]
  },
  {
   "cell_type": "code",
   "execution_count": 1,
   "metadata": {},
   "outputs": [],
   "source": [
    "import numpy as np\n",
    "import pandas as pd\n",
    "from trees import RadixTree,RadixAddress"
   ]
  },
  {
   "cell_type": "markdown",
   "metadata": {},
   "source": [
    "## Writing library functions"
   ]
  },
  {
   "cell_type": "code",
   "execution_count": 14,
   "metadata": {},
   "outputs": [],
   "source": [
    "def countCharacters(string):\n",
    "    countDict = {}\n",
    "    for i in string: countDict[i] = countDict[i]+1 if i in countDict else 1\n",
    "    return countDict"
   ]
  },
  {
   "cell_type": "markdown",
   "metadata": {},
   "source": [
    "## Testing out radix Trees"
   ]
  },
  {
   "cell_type": "code",
   "execution_count": 2,
   "metadata": {},
   "outputs": [],
   "source": [
    "tree = RadixTree(3,3,3)"
   ]
  },
  {
   "cell_type": "code",
   "execution_count": 3,
   "metadata": {},
   "outputs": [],
   "source": [
    "addr = tree.genAddress()"
   ]
  },
  {
   "cell_type": "code",
   "execution_count": 4,
   "metadata": {},
   "outputs": [
    {
     "data": {
      "text/plain": [
       "'[0, 0, 0]'"
      ]
     },
     "execution_count": 4,
     "metadata": {},
     "output_type": "execute_result"
    }
   ],
   "source": [
    "addr.toString()"
   ]
  },
  {
   "cell_type": "code",
   "execution_count": 5,
   "metadata": {},
   "outputs": [],
   "source": [
    "addr.increment()"
   ]
  },
  {
   "cell_type": "code",
   "execution_count": 6,
   "metadata": {},
   "outputs": [
    {
     "data": {
      "text/plain": [
       "'[0, 0, 1]'"
      ]
     },
     "execution_count": 6,
     "metadata": {},
     "output_type": "execute_result"
    }
   ],
   "source": [
    "addr.toString()"
   ]
  },
  {
   "cell_type": "code",
   "execution_count": 7,
   "metadata": {},
   "outputs": [
    {
     "data": {
      "text/plain": [
       "1"
      ]
     },
     "execution_count": 7,
     "metadata": {},
     "output_type": "execute_result"
    }
   ],
   "source": [
    "addr.getIndex()"
   ]
  },
  {
   "cell_type": "code",
   "execution_count": 8,
   "metadata": {},
   "outputs": [
    {
     "data": {
      "text/plain": [
       "63"
      ]
     },
     "execution_count": 8,
     "metadata": {},
     "output_type": "execute_result"
    }
   ],
   "source": [
    "tree.maxIndex()"
   ]
  },
  {
   "cell_type": "code",
   "execution_count": 9,
   "metadata": {},
   "outputs": [
    {
     "name": "stdout",
     "output_type": "stream",
     "text": [
      "[0, 0, 1]\n",
      "[0, 0, 2]\n",
      "[0, 0, 3]\n",
      "[0, 1, 0]\n",
      "[0, 1, 1]\n",
      "[0, 1, 2]\n",
      "[0, 1, 3]\n",
      "[0, 2, 0]\n",
      "[0, 2, 1]\n",
      "[0, 2, 2]\n",
      "[0, 2, 3]\n",
      "[0, 3, 0]\n",
      "[0, 3, 1]\n",
      "[0, 3, 2]\n",
      "[0, 3, 3]\n",
      "[1, 0, 0]\n",
      "[1, 0, 1]\n",
      "[1, 0, 2]\n",
      "[1, 0, 3]\n",
      "[1, 1, 0]\n",
      "[1, 1, 1]\n",
      "[1, 1, 2]\n",
      "[1, 1, 3]\n",
      "[1, 2, 0]\n",
      "[1, 2, 1]\n",
      "[1, 2, 2]\n",
      "[1, 2, 3]\n",
      "[1, 3, 0]\n",
      "[1, 3, 1]\n",
      "[1, 3, 2]\n",
      "[1, 3, 3]\n",
      "[2, 0, 0]\n",
      "[2, 0, 1]\n",
      "[2, 0, 2]\n",
      "[2, 0, 3]\n",
      "[2, 1, 0]\n",
      "[2, 1, 1]\n",
      "[2, 1, 2]\n",
      "[2, 1, 3]\n",
      "[2, 2, 0]\n",
      "[2, 2, 1]\n",
      "[2, 2, 2]\n",
      "[2, 2, 3]\n",
      "[2, 3, 0]\n",
      "[2, 3, 1]\n",
      "[2, 3, 2]\n",
      "[2, 3, 3]\n",
      "[3, 0, 0]\n",
      "[3, 0, 1]\n",
      "[3, 0, 2]\n",
      "[3, 0, 3]\n",
      "[3, 1, 0]\n",
      "[3, 1, 1]\n",
      "[3, 1, 2]\n",
      "[3, 1, 3]\n",
      "[3, 2, 0]\n",
      "[3, 2, 1]\n",
      "[3, 2, 2]\n",
      "[3, 2, 3]\n",
      "[3, 3, 0]\n",
      "[3, 3, 1]\n",
      "[3, 3, 2]\n",
      "[3, 3, 3]\n",
      "[3, 3, 3]\n"
     ]
    }
   ],
   "source": [
    "addr.resetAddress()\n",
    "for i in range(64):\n",
    "    addr.increment()\n",
    "    print(addr.toString())\n"
   ]
  },
  {
   "cell_type": "markdown",
   "metadata": {},
   "source": [
    "## Multimonomial program"
   ]
  },
  {
   "cell_type": "code",
   "execution_count": 24,
   "metadata": {},
   "outputs": [
    {
     "data": {
      "text/html": [
       "<div>\n",
       "<style scoped>\n",
       "    .dataframe tbody tr th:only-of-type {\n",
       "        vertical-align: middle;\n",
       "    }\n",
       "\n",
       "    .dataframe tbody tr th {\n",
       "        vertical-align: top;\n",
       "    }\n",
       "\n",
       "    .dataframe thead th {\n",
       "        text-align: right;\n",
       "    }\n",
       "</style>\n",
       "<table border=\"1\" class=\"dataframe\">\n",
       "  <thead>\n",
       "    <tr style=\"text-align: right;\">\n",
       "      <th></th>\n",
       "      <th>Term number</th>\n",
       "      <th>a1</th>\n",
       "      <th>a2</th>\n",
       "      <th>a3</th>\n",
       "      <th>coefficient</th>\n",
       "    </tr>\n",
       "  </thead>\n",
       "  <tbody>\n",
       "    <tr>\n",
       "      <th>0</th>\n",
       "      <td>1</td>\n",
       "      <td>2</td>\n",
       "      <td>0</td>\n",
       "      <td>0</td>\n",
       "      <td>1</td>\n",
       "    </tr>\n",
       "    <tr>\n",
       "      <th>1</th>\n",
       "      <td>2</td>\n",
       "      <td>1</td>\n",
       "      <td>1</td>\n",
       "      <td>0</td>\n",
       "      <td>2</td>\n",
       "    </tr>\n",
       "    <tr>\n",
       "      <th>2</th>\n",
       "      <td>3</td>\n",
       "      <td>1</td>\n",
       "      <td>0</td>\n",
       "      <td>1</td>\n",
       "      <td>2</td>\n",
       "    </tr>\n",
       "    <tr>\n",
       "      <th>3</th>\n",
       "      <td>4</td>\n",
       "      <td>0</td>\n",
       "      <td>2</td>\n",
       "      <td>0</td>\n",
       "      <td>1</td>\n",
       "    </tr>\n",
       "    <tr>\n",
       "      <th>4</th>\n",
       "      <td>5</td>\n",
       "      <td>0</td>\n",
       "      <td>1</td>\n",
       "      <td>1</td>\n",
       "      <td>2</td>\n",
       "    </tr>\n",
       "    <tr>\n",
       "      <th>5</th>\n",
       "      <td>6</td>\n",
       "      <td>0</td>\n",
       "      <td>0</td>\n",
       "      <td>2</td>\n",
       "      <td>1</td>\n",
       "    </tr>\n",
       "  </tbody>\n",
       "</table>\n",
       "</div>"
      ],
      "text/plain": [
       "   Term number  a1  a2  a3  coefficient\n",
       "0            1   2   0   0            1\n",
       "1            2   1   1   0            2\n",
       "2            3   1   0   1            2\n",
       "3            4   0   2   0            1\n",
       "4            5   0   1   1            2\n",
       "5            6   0   0   2            1"
      ]
     },
     "execution_count": 24,
     "metadata": {},
     "output_type": "execute_result"
    }
   ],
   "source": [
    "def MultinomialCompute(n,k):\n",
    "    treeArray = [n-1 for i in range(k) ]\n",
    "    rTree = RadixTree(treeArray)\n",
    "    rAddress = rTree.genAddress()\n",
    "    termList = []\n",
    "    for i in range(rTree.maxIndex()+1):\n",
    "        val =''.join(list(map(lambda x:str(x+1),sorted(rAddress.addr))))\n",
    "        termList.append(val)\n",
    "        rAddress.increment()\n",
    "    countDict = {}\n",
    "    for term in termList: countDict[term]= countDict[term]+1 if term in countDict else 1\n",
    "    termArray = []\n",
    "    termCounter = 1\n",
    "    for term, coefficient in countDict.items():\n",
    "        termObject = {\"Term number\":termCounter}\n",
    "        for i in range(n): termObject['a'+str(i+1)] = 0\n",
    "        charObject = countCharacters(term)\n",
    "        for variable in charObject: termObject['a'+str(variable)] = charObject[variable]\n",
    "        termObject['coefficient'] = coefficient\n",
    "        termArray.append(termObject)\n",
    "        termCounter += 1\n",
    "    df = pd.DataFrame(termArray)\n",
    "    return df\n",
    "MultinomialCompute(3,2)"
   ]
  }
 ],
 "metadata": {
  "kernelspec": {
   "display_name": "Python 3",
   "language": "python",
   "name": "python3"
  },
  "language_info": {
   "codemirror_mode": {
    "name": "ipython",
    "version": 3
   },
   "file_extension": ".py",
   "mimetype": "text/x-python",
   "name": "python",
   "nbconvert_exporter": "python",
   "pygments_lexer": "ipython3",
   "version": "3.7.3"
  }
 },
 "nbformat": 4,
 "nbformat_minor": 4
}
